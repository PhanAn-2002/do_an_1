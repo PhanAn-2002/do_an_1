{
 "cells": [
  {
   "cell_type": "code",
   "execution_count": 1,
   "id": "989ac356",
   "metadata": {},
   "outputs": [],
   "source": [
    "import numpy as np\n",
    "import pandas as pd\n",
    "import matplotlib.pyplot as plt\n",
    "import matplotlib.gridspec as gridspec\n",
    "import seaborn as sns"
   ]
  },
  {
   "cell_type": "code",
   "execution_count": 2,
   "id": "51c691a6",
   "metadata": {},
   "outputs": [],
   "source": [
    "df = pd.read_csv('D:\\\\taileudaihoc\\\\do an\\\\drive-download-20230630T074917Z-001\\\\Wholesale customers data.csv')"
   ]
  },
  {
   "cell_type": "code",
   "execution_count": 3,
   "id": "98cfbf6b",
   "metadata": {},
   "outputs": [
    {
     "data": {
      "text/html": [
       "<div>\n",
       "<style scoped>\n",
       "    .dataframe tbody tr th:only-of-type {\n",
       "        vertical-align: middle;\n",
       "    }\n",
       "\n",
       "    .dataframe tbody tr th {\n",
       "        vertical-align: top;\n",
       "    }\n",
       "\n",
       "    .dataframe thead th {\n",
       "        text-align: right;\n",
       "    }\n",
       "</style>\n",
       "<table border=\"1\" class=\"dataframe\">\n",
       "  <thead>\n",
       "    <tr style=\"text-align: right;\">\n",
       "      <th></th>\n",
       "      <th>Channel</th>\n",
       "      <th>Region</th>\n",
       "      <th>Fresh</th>\n",
       "      <th>Milk</th>\n",
       "      <th>Grocery</th>\n",
       "      <th>Frozen</th>\n",
       "      <th>Detergents_Paper</th>\n",
       "      <th>Delicassen</th>\n",
       "    </tr>\n",
       "  </thead>\n",
       "  <tbody>\n",
       "    <tr>\n",
       "      <th>0</th>\n",
       "      <td>2</td>\n",
       "      <td>3</td>\n",
       "      <td>12669</td>\n",
       "      <td>9656</td>\n",
       "      <td>7561</td>\n",
       "      <td>214</td>\n",
       "      <td>2674</td>\n",
       "      <td>1338</td>\n",
       "    </tr>\n",
       "    <tr>\n",
       "      <th>1</th>\n",
       "      <td>2</td>\n",
       "      <td>3</td>\n",
       "      <td>7057</td>\n",
       "      <td>9810</td>\n",
       "      <td>9568</td>\n",
       "      <td>1762</td>\n",
       "      <td>3293</td>\n",
       "      <td>1776</td>\n",
       "    </tr>\n",
       "    <tr>\n",
       "      <th>2</th>\n",
       "      <td>2</td>\n",
       "      <td>3</td>\n",
       "      <td>6353</td>\n",
       "      <td>8808</td>\n",
       "      <td>7684</td>\n",
       "      <td>2405</td>\n",
       "      <td>3516</td>\n",
       "      <td>7844</td>\n",
       "    </tr>\n",
       "    <tr>\n",
       "      <th>3</th>\n",
       "      <td>1</td>\n",
       "      <td>3</td>\n",
       "      <td>13265</td>\n",
       "      <td>1196</td>\n",
       "      <td>4221</td>\n",
       "      <td>6404</td>\n",
       "      <td>507</td>\n",
       "      <td>1788</td>\n",
       "    </tr>\n",
       "    <tr>\n",
       "      <th>4</th>\n",
       "      <td>2</td>\n",
       "      <td>3</td>\n",
       "      <td>22615</td>\n",
       "      <td>5410</td>\n",
       "      <td>7198</td>\n",
       "      <td>3915</td>\n",
       "      <td>1777</td>\n",
       "      <td>5185</td>\n",
       "    </tr>\n",
       "  </tbody>\n",
       "</table>\n",
       "</div>"
      ],
      "text/plain": [
       "   Channel  Region  Fresh  Milk  Grocery  Frozen  Detergents_Paper  Delicassen\n",
       "0        2       3  12669  9656     7561     214              2674        1338\n",
       "1        2       3   7057  9810     9568    1762              3293        1776\n",
       "2        2       3   6353  8808     7684    2405              3516        7844\n",
       "3        1       3  13265  1196     4221    6404               507        1788\n",
       "4        2       3  22615  5410     7198    3915              1777        5185"
      ]
     },
     "execution_count": 3,
     "metadata": {},
     "output_type": "execute_result"
    }
   ],
   "source": [
    "df.head()"
   ]
  },
  {
   "cell_type": "code",
   "execution_count": 4,
   "id": "6d2ce04c",
   "metadata": {},
   "outputs": [
    {
     "data": {
      "text/html": [
       "<div>\n",
       "<style scoped>\n",
       "    .dataframe tbody tr th:only-of-type {\n",
       "        vertical-align: middle;\n",
       "    }\n",
       "\n",
       "    .dataframe tbody tr th {\n",
       "        vertical-align: top;\n",
       "    }\n",
       "\n",
       "    .dataframe thead th {\n",
       "        text-align: right;\n",
       "    }\n",
       "</style>\n",
       "<table border=\"1\" class=\"dataframe\">\n",
       "  <thead>\n",
       "    <tr style=\"text-align: right;\">\n",
       "      <th></th>\n",
       "      <th>Channel</th>\n",
       "      <th>Region</th>\n",
       "      <th>Fresh</th>\n",
       "      <th>Milk</th>\n",
       "      <th>Grocery</th>\n",
       "      <th>Frozen</th>\n",
       "      <th>Detergents_Paper</th>\n",
       "      <th>Delicassen</th>\n",
       "      <th>Total</th>\n",
       "    </tr>\n",
       "  </thead>\n",
       "  <tbody>\n",
       "    <tr>\n",
       "      <th>0</th>\n",
       "      <td>2</td>\n",
       "      <td>3</td>\n",
       "      <td>12669</td>\n",
       "      <td>9656</td>\n",
       "      <td>7561</td>\n",
       "      <td>214</td>\n",
       "      <td>2674</td>\n",
       "      <td>1338</td>\n",
       "      <td>34112</td>\n",
       "    </tr>\n",
       "    <tr>\n",
       "      <th>1</th>\n",
       "      <td>2</td>\n",
       "      <td>3</td>\n",
       "      <td>7057</td>\n",
       "      <td>9810</td>\n",
       "      <td>9568</td>\n",
       "      <td>1762</td>\n",
       "      <td>3293</td>\n",
       "      <td>1776</td>\n",
       "      <td>33266</td>\n",
       "    </tr>\n",
       "    <tr>\n",
       "      <th>2</th>\n",
       "      <td>2</td>\n",
       "      <td>3</td>\n",
       "      <td>6353</td>\n",
       "      <td>8808</td>\n",
       "      <td>7684</td>\n",
       "      <td>2405</td>\n",
       "      <td>3516</td>\n",
       "      <td>7844</td>\n",
       "      <td>36610</td>\n",
       "    </tr>\n",
       "    <tr>\n",
       "      <th>3</th>\n",
       "      <td>1</td>\n",
       "      <td>3</td>\n",
       "      <td>13265</td>\n",
       "      <td>1196</td>\n",
       "      <td>4221</td>\n",
       "      <td>6404</td>\n",
       "      <td>507</td>\n",
       "      <td>1788</td>\n",
       "      <td>27381</td>\n",
       "    </tr>\n",
       "    <tr>\n",
       "      <th>4</th>\n",
       "      <td>2</td>\n",
       "      <td>3</td>\n",
       "      <td>22615</td>\n",
       "      <td>5410</td>\n",
       "      <td>7198</td>\n",
       "      <td>3915</td>\n",
       "      <td>1777</td>\n",
       "      <td>5185</td>\n",
       "      <td>46100</td>\n",
       "    </tr>\n",
       "  </tbody>\n",
       "</table>\n",
       "</div>"
      ],
      "text/plain": [
       "   Channel  Region  Fresh  Milk  Grocery  Frozen  Detergents_Paper  \\\n",
       "0        2       3  12669  9656     7561     214              2674   \n",
       "1        2       3   7057  9810     9568    1762              3293   \n",
       "2        2       3   6353  8808     7684    2405              3516   \n",
       "3        1       3  13265  1196     4221    6404               507   \n",
       "4        2       3  22615  5410     7198    3915              1777   \n",
       "\n",
       "   Delicassen  Total  \n",
       "0        1338  34112  \n",
       "1        1776  33266  \n",
       "2        7844  36610  \n",
       "3        1788  27381  \n",
       "4        5185  46100  "
      ]
     },
     "execution_count": 4,
     "metadata": {},
     "output_type": "execute_result"
    }
   ],
   "source": [
    "df['Total'] = df['Fresh'] + df['Milk'] + df['Grocery'] + df['Frozen'] + df['Detergents_Paper'] + df['Delicassen']\n",
    "df.head()"
   ]
  },
  {
   "cell_type": "code",
   "execution_count": 5,
   "id": "71d9d932",
   "metadata": {},
   "outputs": [
    {
     "name": "stdout",
     "output_type": "stream",
     "text": [
      "<class 'pandas.core.frame.DataFrame'>\n",
      "RangeIndex: 440 entries, 0 to 439\n",
      "Data columns (total 9 columns):\n",
      " #   Column            Non-Null Count  Dtype\n",
      "---  ------            --------------  -----\n",
      " 0   Channel           440 non-null    int64\n",
      " 1   Region            440 non-null    int64\n",
      " 2   Fresh             440 non-null    int64\n",
      " 3   Milk              440 non-null    int64\n",
      " 4   Grocery           440 non-null    int64\n",
      " 5   Frozen            440 non-null    int64\n",
      " 6   Detergents_Paper  440 non-null    int64\n",
      " 7   Delicassen        440 non-null    int64\n",
      " 8   Total             440 non-null    int64\n",
      "dtypes: int64(9)\n",
      "memory usage: 31.1 KB\n"
     ]
    }
   ],
   "source": [
    "df.info()"
   ]
  },
  {
   "cell_type": "code",
   "execution_count": 6,
   "id": "f60a219e",
   "metadata": {},
   "outputs": [
    {
     "name": "stdout",
     "output_type": "stream",
     "text": [
      "Column Channel unique values: \n",
      "[2 1]\n",
      "\n",
      "\n",
      "Column Region unique values: \n",
      "[3 1 2]\n",
      "\n",
      "\n"
     ]
    }
   ],
   "source": [
    "list_=['Channel','Region']\n",
    "for i in list_:\n",
    "    print(\"Column \"+ i + ' unique values: ')\n",
    "    print(df[i].unique())\n",
    "    print(\"\\n\")"
   ]
  },
  {
   "cell_type": "code",
   "execution_count": 7,
   "id": "23ce1f58",
   "metadata": {},
   "outputs": [
    {
     "data": {
      "text/html": [
       "<div>\n",
       "<style scoped>\n",
       "    .dataframe tbody tr th:only-of-type {\n",
       "        vertical-align: middle;\n",
       "    }\n",
       "\n",
       "    .dataframe tbody tr th {\n",
       "        vertical-align: top;\n",
       "    }\n",
       "\n",
       "    .dataframe thead th {\n",
       "        text-align: right;\n",
       "    }\n",
       "</style>\n",
       "<table border=\"1\" class=\"dataframe\">\n",
       "  <thead>\n",
       "    <tr style=\"text-align: right;\">\n",
       "      <th></th>\n",
       "      <th>Fresh</th>\n",
       "      <th>Milk</th>\n",
       "      <th>Grocery</th>\n",
       "      <th>Frozen</th>\n",
       "      <th>Detergents_Paper</th>\n",
       "      <th>Delicassen</th>\n",
       "      <th>Total</th>\n",
       "    </tr>\n",
       "  </thead>\n",
       "  <tbody>\n",
       "    <tr>\n",
       "      <th>0</th>\n",
       "      <td>12669</td>\n",
       "      <td>9656</td>\n",
       "      <td>7561</td>\n",
       "      <td>214</td>\n",
       "      <td>2674</td>\n",
       "      <td>1338</td>\n",
       "      <td>34112</td>\n",
       "    </tr>\n",
       "    <tr>\n",
       "      <th>1</th>\n",
       "      <td>7057</td>\n",
       "      <td>9810</td>\n",
       "      <td>9568</td>\n",
       "      <td>1762</td>\n",
       "      <td>3293</td>\n",
       "      <td>1776</td>\n",
       "      <td>33266</td>\n",
       "    </tr>\n",
       "    <tr>\n",
       "      <th>2</th>\n",
       "      <td>6353</td>\n",
       "      <td>8808</td>\n",
       "      <td>7684</td>\n",
       "      <td>2405</td>\n",
       "      <td>3516</td>\n",
       "      <td>7844</td>\n",
       "      <td>36610</td>\n",
       "    </tr>\n",
       "    <tr>\n",
       "      <th>3</th>\n",
       "      <td>13265</td>\n",
       "      <td>1196</td>\n",
       "      <td>4221</td>\n",
       "      <td>6404</td>\n",
       "      <td>507</td>\n",
       "      <td>1788</td>\n",
       "      <td>27381</td>\n",
       "    </tr>\n",
       "    <tr>\n",
       "      <th>4</th>\n",
       "      <td>22615</td>\n",
       "      <td>5410</td>\n",
       "      <td>7198</td>\n",
       "      <td>3915</td>\n",
       "      <td>1777</td>\n",
       "      <td>5185</td>\n",
       "      <td>46100</td>\n",
       "    </tr>\n",
       "    <tr>\n",
       "      <th>...</th>\n",
       "      <td>...</td>\n",
       "      <td>...</td>\n",
       "      <td>...</td>\n",
       "      <td>...</td>\n",
       "      <td>...</td>\n",
       "      <td>...</td>\n",
       "      <td>...</td>\n",
       "    </tr>\n",
       "    <tr>\n",
       "      <th>435</th>\n",
       "      <td>29703</td>\n",
       "      <td>12051</td>\n",
       "      <td>16027</td>\n",
       "      <td>13135</td>\n",
       "      <td>182</td>\n",
       "      <td>2204</td>\n",
       "      <td>73302</td>\n",
       "    </tr>\n",
       "    <tr>\n",
       "      <th>436</th>\n",
       "      <td>39228</td>\n",
       "      <td>1431</td>\n",
       "      <td>764</td>\n",
       "      <td>4510</td>\n",
       "      <td>93</td>\n",
       "      <td>2346</td>\n",
       "      <td>48372</td>\n",
       "    </tr>\n",
       "    <tr>\n",
       "      <th>437</th>\n",
       "      <td>14531</td>\n",
       "      <td>15488</td>\n",
       "      <td>30243</td>\n",
       "      <td>437</td>\n",
       "      <td>14841</td>\n",
       "      <td>1867</td>\n",
       "      <td>77407</td>\n",
       "    </tr>\n",
       "    <tr>\n",
       "      <th>438</th>\n",
       "      <td>10290</td>\n",
       "      <td>1981</td>\n",
       "      <td>2232</td>\n",
       "      <td>1038</td>\n",
       "      <td>168</td>\n",
       "      <td>2125</td>\n",
       "      <td>17834</td>\n",
       "    </tr>\n",
       "    <tr>\n",
       "      <th>439</th>\n",
       "      <td>2787</td>\n",
       "      <td>1698</td>\n",
       "      <td>2510</td>\n",
       "      <td>65</td>\n",
       "      <td>477</td>\n",
       "      <td>52</td>\n",
       "      <td>7589</td>\n",
       "    </tr>\n",
       "  </tbody>\n",
       "</table>\n",
       "<p>440 rows × 7 columns</p>\n",
       "</div>"
      ],
      "text/plain": [
       "     Fresh   Milk  Grocery  Frozen  Detergents_Paper  Delicassen  Total\n",
       "0    12669   9656     7561     214              2674        1338  34112\n",
       "1     7057   9810     9568    1762              3293        1776  33266\n",
       "2     6353   8808     7684    2405              3516        7844  36610\n",
       "3    13265   1196     4221    6404               507        1788  27381\n",
       "4    22615   5410     7198    3915              1777        5185  46100\n",
       "..     ...    ...      ...     ...               ...         ...    ...\n",
       "435  29703  12051    16027   13135               182        2204  73302\n",
       "436  39228   1431      764    4510                93        2346  48372\n",
       "437  14531  15488    30243     437             14841        1867  77407\n",
       "438  10290   1981     2232    1038               168        2125  17834\n",
       "439   2787   1698     2510      65               477          52   7589\n",
       "\n",
       "[440 rows x 7 columns]"
      ]
     },
     "execution_count": 7,
     "metadata": {},
     "output_type": "execute_result"
    }
   ],
   "source": [
    "df = df.drop(list_, axis = 1)\n",
    "df"
   ]
  },
  {
   "cell_type": "code",
   "execution_count": 8,
   "id": "e0a28610",
   "metadata": {
    "scrolled": true
   },
   "outputs": [
    {
     "data": {
      "text/html": [
       "<div>\n",
       "<style scoped>\n",
       "    .dataframe tbody tr th:only-of-type {\n",
       "        vertical-align: middle;\n",
       "    }\n",
       "\n",
       "    .dataframe tbody tr th {\n",
       "        vertical-align: top;\n",
       "    }\n",
       "\n",
       "    .dataframe thead th {\n",
       "        text-align: right;\n",
       "    }\n",
       "</style>\n",
       "<table border=\"1\" class=\"dataframe\">\n",
       "  <thead>\n",
       "    <tr style=\"text-align: right;\">\n",
       "      <th></th>\n",
       "      <th>Fresh</th>\n",
       "      <th>Milk</th>\n",
       "      <th>Grocery</th>\n",
       "      <th>Frozen</th>\n",
       "      <th>Detergents_Paper</th>\n",
       "      <th>Delicassen</th>\n",
       "      <th>Total</th>\n",
       "    </tr>\n",
       "  </thead>\n",
       "  <tbody>\n",
       "    <tr>\n",
       "      <th>count</th>\n",
       "      <td>440.000000</td>\n",
       "      <td>440.000000</td>\n",
       "      <td>440.000000</td>\n",
       "      <td>440.000000</td>\n",
       "      <td>440.000000</td>\n",
       "      <td>440.000000</td>\n",
       "      <td>440.000000</td>\n",
       "    </tr>\n",
       "    <tr>\n",
       "      <th>mean</th>\n",
       "      <td>12000.297727</td>\n",
       "      <td>5796.265909</td>\n",
       "      <td>7951.277273</td>\n",
       "      <td>3071.931818</td>\n",
       "      <td>2881.493182</td>\n",
       "      <td>1524.870455</td>\n",
       "      <td>33226.136364</td>\n",
       "    </tr>\n",
       "    <tr>\n",
       "      <th>std</th>\n",
       "      <td>12647.328865</td>\n",
       "      <td>7380.377175</td>\n",
       "      <td>9503.162829</td>\n",
       "      <td>4854.673333</td>\n",
       "      <td>4767.854448</td>\n",
       "      <td>2820.105937</td>\n",
       "      <td>26356.301730</td>\n",
       "    </tr>\n",
       "    <tr>\n",
       "      <th>min</th>\n",
       "      <td>3.000000</td>\n",
       "      <td>55.000000</td>\n",
       "      <td>3.000000</td>\n",
       "      <td>25.000000</td>\n",
       "      <td>3.000000</td>\n",
       "      <td>3.000000</td>\n",
       "      <td>904.000000</td>\n",
       "    </tr>\n",
       "    <tr>\n",
       "      <th>25%</th>\n",
       "      <td>3127.750000</td>\n",
       "      <td>1533.000000</td>\n",
       "      <td>2153.000000</td>\n",
       "      <td>742.250000</td>\n",
       "      <td>256.750000</td>\n",
       "      <td>408.250000</td>\n",
       "      <td>17448.750000</td>\n",
       "    </tr>\n",
       "    <tr>\n",
       "      <th>50%</th>\n",
       "      <td>8504.000000</td>\n",
       "      <td>3627.000000</td>\n",
       "      <td>4755.500000</td>\n",
       "      <td>1526.000000</td>\n",
       "      <td>816.500000</td>\n",
       "      <td>965.500000</td>\n",
       "      <td>27492.000000</td>\n",
       "    </tr>\n",
       "    <tr>\n",
       "      <th>75%</th>\n",
       "      <td>16933.750000</td>\n",
       "      <td>7190.250000</td>\n",
       "      <td>10655.750000</td>\n",
       "      <td>3554.250000</td>\n",
       "      <td>3922.000000</td>\n",
       "      <td>1820.250000</td>\n",
       "      <td>41307.500000</td>\n",
       "    </tr>\n",
       "    <tr>\n",
       "      <th>max</th>\n",
       "      <td>112151.000000</td>\n",
       "      <td>73498.000000</td>\n",
       "      <td>92780.000000</td>\n",
       "      <td>60869.000000</td>\n",
       "      <td>40827.000000</td>\n",
       "      <td>47943.000000</td>\n",
       "      <td>199891.000000</td>\n",
       "    </tr>\n",
       "  </tbody>\n",
       "</table>\n",
       "</div>"
      ],
      "text/plain": [
       "               Fresh          Milk       Grocery        Frozen  \\\n",
       "count     440.000000    440.000000    440.000000    440.000000   \n",
       "mean    12000.297727   5796.265909   7951.277273   3071.931818   \n",
       "std     12647.328865   7380.377175   9503.162829   4854.673333   \n",
       "min         3.000000     55.000000      3.000000     25.000000   \n",
       "25%      3127.750000   1533.000000   2153.000000    742.250000   \n",
       "50%      8504.000000   3627.000000   4755.500000   1526.000000   \n",
       "75%     16933.750000   7190.250000  10655.750000   3554.250000   \n",
       "max    112151.000000  73498.000000  92780.000000  60869.000000   \n",
       "\n",
       "       Detergents_Paper    Delicassen          Total  \n",
       "count        440.000000    440.000000     440.000000  \n",
       "mean        2881.493182   1524.870455   33226.136364  \n",
       "std         4767.854448   2820.105937   26356.301730  \n",
       "min            3.000000      3.000000     904.000000  \n",
       "25%          256.750000    408.250000   17448.750000  \n",
       "50%          816.500000    965.500000   27492.000000  \n",
       "75%         3922.000000   1820.250000   41307.500000  \n",
       "max        40827.000000  47943.000000  199891.000000  "
      ]
     },
     "execution_count": 8,
     "metadata": {},
     "output_type": "execute_result"
    }
   ],
   "source": [
    "df.describe()"
   ]
  },
  {
   "cell_type": "code",
   "execution_count": 9,
   "id": "75039b29",
   "metadata": {},
   "outputs": [
    {
     "data": {
      "image/png": "[encoded data removed]",
      "text/plain": [
       "<Figure size 864x432 with 1 Axes>"
      ]
     },
     "metadata": {
      "needs_background": "light"
     },
     "output_type": "display_data"
    }
   ],
   "source": [
    "fig, ax = plt.subplots(figsize=(12, 6))\n",
    "\n",
    "n, bins, patches = plt.hist(x=df['Total'], bins='auto', color='#0504aa',\n",
    "                            alpha=0.7, rwidth=0.85)\n",
    "# \n",
    "for i in range(len(patches)):\n",
    "    plt.text(patches[i].get_x() + patches[i].get_width() / 2, patches[i].get_height(),\n",
    "             str(int(patches[i].get_height())), ha='center', va='bottom')\n",
    "    \n",
    "# bỏ đường kẻ ở trên và bên phải chart\n",
    "spines = ['top', 'right']\n",
    "for s in spines:\n",
    "    ax.spines[s].set_visible(False) \n",
    "    \n",
    "# bỏ dấu tích ở 2 trục\n",
    "ax.tick_params(left=False, bottom=False) \n",
    "\n",
    "plt.suptitle('Histogram of Total spend', fontweight='bold', size=14, horizontalalignment='left', x=0.125, y = 1)\n",
    "\n",
    "plt.xlabel('Spending ($)', size=12)\n",
    "plt.ylabel('Customer', size=12)\n",
    "plt.text(0.7, 0.01, \"Phan Lac An - 20206109\", style='italic',transform=plt.gcf().transFigure)\n",
    "# plt.show()\n",
    "plt.savefig('abc.png')"
   ]
  },
  {
   "cell_type": "code",
   "execution_count": 10,
   "id": "22115da2",
   "metadata": {},
   "outputs": [
    {
     "data": {
      "image/png": "[encoded data removed]",
      "text/plain": [
       "<Figure size 864x432 with 1 Axes>"
      ]
     },
     "metadata": {
      "needs_background": "light"
     },
     "output_type": "display_data"
    }
   ],
   "source": [
    "# Tạo hình ảnh và trục\n",
    "fig, ax = plt.subplots(figsize=(12, 6))\n",
    "\n",
    "# Vẽ biểu đồ box plot\n",
    "ax.boxplot(df['Total'])\n",
    "\n",
    "# Vẽ dấu chấm số trên đỉnh của hộp box plot\n",
    "for i, box in enumerate(ax.artists):\n",
    "    ax.text(box.get_x() + box.get_width() / 2, df['Total'].iloc[i],\n",
    "             str(int(df['Total'].iloc[i])), ha='center', va='bottom')\n",
    "\n",
    "# Tắt đường viền phía trên và bên phải của biểu đồ\n",
    "spines = ['top', 'right']\n",
    "for s in spines:\n",
    "    ax.spines[s].set_visible(False)\n",
    "\n",
    "# Tắt dấu tích trên các trục\n",
    "ax.tick_params(left=False, bottom=False)\n",
    "\n",
    "# Thêm tiêu đề và nhãn cho biểu đồ\n",
    "plt.suptitle('Box Plot of Total spend', fontweight='bold', size=14, horizontalalignment='left', x=0.125)\n",
    "plt.text(0.7, 0.01, \"Phan Lac An - 20206109\", style='italic',transform=plt.gcf().transFigure)\n",
    "plt.show()"
   ]
  },
  {
   "cell_type": "code",
   "execution_count": 11,
   "id": "ccc0051d",
   "metadata": {},
   "outputs": [
    {
     "data": {
      "image/png": "[encoded data removed]",
      "text/plain": [
       "<Figure size 864x432 with 1 Axes>"
      ]
     },
     "metadata": {
      "needs_background": "light"
     },
     "output_type": "display_data"
    }
   ],
   "source": [
    "fig, ax = plt.subplots(figsize=(12, 6))\n",
    "\n",
    "n, bins, patches = plt.hist(x=df['Fresh'], bins='auto', color='#0504aa',\n",
    "                            alpha=0.7, rwidth=0.85)\n",
    "# \n",
    "for i in range(len(patches)):\n",
    "    plt.text(patches[i].get_x() + patches[i].get_width() / 2, patches[i].get_height(),\n",
    "             str(int(patches[i].get_height())), ha='center', va='bottom')\n",
    "    \n",
    "# bỏ đường kẻ ở trên và bên phải chart\n",
    "spines = ['top', 'right']\n",
    "for s in spines:\n",
    "    ax.spines[s].set_visible(False) \n",
    "    \n",
    "# bỏ dấu tích ở 2 trục\n",
    "ax.tick_params(left=False, bottom=False) \n",
    "\n",
    "plt.suptitle('Histogram of Fresh', fontweight='bold', size=14, horizontalalignment='left', x=0.125, y = 1)\n",
    "\n",
    "plt.xlabel('Spending ($)', size=12)\n",
    "plt.ylabel('Customer', size=12)\n",
    "plt.text(0.7, 0.01, \"Phan Lac An - 20206109\", style='italic',transform=plt.gcf().transFigure)\n",
    "plt.show()"
   ]
  },
  {
   "cell_type": "code",
   "execution_count": 12,
   "id": "16fc3a4c",
   "metadata": {},
   "outputs": [
    {
     "data": {
      "image/png": "[encoded data removed]",
      "text/plain": [
       "<Figure size 864x432 with 1 Axes>"
      ]
     },
     "metadata": {
      "needs_background": "light"
     },
     "output_type": "display_data"
    }
   ],
   "source": [
    "# Tạo hình ảnh và trục\n",
    "fig, ax = plt.subplots(figsize=(12, 6))\n",
    "\n",
    "# Vẽ biểu đồ box plot\n",
    "ax.boxplot(df['Fresh'])\n",
    "\n",
    "# Vẽ dấu chấm số trên đỉnh của hộp box plot\n",
    "for i, box in enumerate(ax.artists):\n",
    "    ax.text(box.get_x() + box.get_width() / 2, df['Fresh'].iloc[i],\n",
    "             str(int(df['Fresh'].iloc[i])), ha='center', va='bottom')\n",
    "\n",
    "# Tắt đường viền phía trên và bên phải của biểu đồ\n",
    "spines = ['top', 'right']\n",
    "for s in spines:\n",
    "    ax.spines[s].set_visible(False)\n",
    "\n",
    "# Tắt dấu tích trên các trục\n",
    "ax.tick_params(left=False, bottom=False)\n",
    "\n",
    "# Thêm tiêu đề và nhãn cho biểu đồ\n",
    "plt.suptitle('Box Plot of Fresh', fontweight='bold', size=14, horizontalalignment='left', x=0.125)\n",
    "plt.text(0.7, 0.01, \"Phan Lac An - 20206109\", style='italic',transform=plt.gcf().transFigure)\n",
    "plt.show()"
   ]
  },
  {
   "cell_type": "code",
   "execution_count": 13,
   "id": "58e179c0",
   "metadata": {},
   "outputs": [
    {
     "data": {
      "image/png": "[encoded data removed]",
      "text/plain": [
       "<Figure size 864x432 with 1 Axes>"
      ]
     },
     "metadata": {
      "needs_background": "light"
     },
     "output_type": "display_data"
    }
   ],
   "source": [
    "fig, ax = plt.subplots(figsize=(12, 6))\n",
    "\n",
    "n, bins, patches = plt.hist(x=df['Milk'], bins='auto', color='#0504aa',\n",
    "                            alpha=0.7, rwidth=0.85)\n",
    "# \n",
    "for i in range(len(patches)):\n",
    "    plt.text(patches[i].get_x() + patches[i].get_width() / 2, patches[i].get_height(),\n",
    "             str(int(patches[i].get_height())), ha='center', va='bottom')\n",
    "    \n",
    "# bỏ đường kẻ ở trên và bên phải chart\n",
    "spines = ['top', 'right']\n",
    "for s in spines:\n",
    "    ax.spines[s].set_visible(False) \n",
    "    \n",
    "# bỏ dấu tích ở 2 trục\n",
    "ax.tick_params(left=False, bottom=False) \n",
    "\n",
    "plt.suptitle('Histogram of Milk', fontweight='bold', size=14, horizontalalignment='left', x=0.125, y = 1)\n",
    "plt.xlabel('Spending ($)', size=12)\n",
    "plt.ylabel('Customer', size=12)\n",
    "plt.text(0.7, 0.01, \"Phan Lac An - 20206109\", style='italic',transform=plt.gcf().transFigure)\n",
    "plt.show()"
   ]
  },
  {
   "cell_type": "code",
   "execution_count": 14,
   "id": "3c3c1e9c",
   "metadata": {},
   "outputs": [
    {
     "data": {
      "image/png": "[encoded data removed]",
      "text/plain": [
       "<Figure size 864x432 with 1 Axes>"
      ]
     },
     "metadata": {
      "needs_background": "light"
     },
     "output_type": "display_data"
    }
   ],
   "source": [
    "# Tạo hình ảnh và trục\n",
    "fig, ax = plt.subplots(figsize=(12, 6))\n",
    "\n",
    "# Vẽ biểu đồ box plot\n",
    "ax.boxplot(df['Milk'])\n",
    "\n",
    "# Vẽ dấu chấm số trên đỉnh của hộp box plot\n",
    "for i, box in enumerate(ax.artists):\n",
    "    ax.text(box.get_x() + box.get_width() / 2, df['Milk'].iloc[i],\n",
    "             str(int(df['Milk'].iloc[i])), ha='center', va='bottom')\n",
    "\n",
    "# Tắt đường viền phía trên và bên phải của biểu đồ\n",
    "spines = ['top', 'right']\n",
    "for s in spines:\n",
    "    ax.spines[s].set_visible(False)\n",
    "\n",
    "# Tắt dấu tích trên các trục\n",
    "ax.tick_params(left=False, bottom=False)\n",
    "\n",
    "# Thêm tiêu đề và nhãn cho biểu đồ\n",
    "plt.suptitle('Box Plot of Milk', fontweight='bold', size=14, horizontalalignment='left', x=0.125)\n",
    "plt.text(0.7, 0.01, \"Phan Lac An - 20206109\", style='italic',transform=plt.gcf().transFigure)\n",
    "plt.show()"
   ]
  },
  {
   "cell_type": "code",
   "execution_count": 15,
   "id": "ca110737",
   "metadata": {},
   "outputs": [
    {
     "data": {
      "image/png": "[encoded data removed]",
      "text/plain": [
       "<Figure size 864x432 with 1 Axes>"
      ]
     },
     "metadata": {
      "needs_background": "light"
     },
     "output_type": "display_data"
    }
   ],
   "source": [
    "fig, ax = plt.subplots(figsize=(12, 6))\n",
    "\n",
    "n, bins, patches = plt.hist(x=df['Grocery'], bins='auto', color='#0504aa',\n",
    "                            alpha=0.7, rwidth=0.85)\n",
    "# \n",
    "for i in range(len(patches)):\n",
    "    plt.text(patches[i].get_x() + patches[i].get_width() / 2, patches[i].get_height(),\n",
    "             str(int(patches[i].get_height())), ha='center', va='bottom')\n",
    "    \n",
    "# bỏ đường kẻ ở trên và bên phải chart\n",
    "spines = ['top', 'right']\n",
    "for s in spines:\n",
    "    ax.spines[s].set_visible(False) \n",
    "    \n",
    "# bỏ dấu tích ở 2 trục\n",
    "ax.tick_params(left=False, bottom=False) \n",
    "\n",
    "plt.suptitle('Histogram of Grocery', fontweight='bold', size=14, horizontalalignment='left', x=0.125, y = 1)\n",
    "plt.xlabel('Spending ($)', size=12)\n",
    "plt.ylabel('Customer', size=12)\n",
    "plt.text(0.7, 0.01, \"Phan Lac An - 20206109\", style='italic',transform=plt.gcf().transFigure)\n",
    "plt.show()"
   ]
  },
  {
   "cell_type": "code",
   "execution_count": 16,
   "id": "b2a6d3f3",
   "metadata": {
    "scrolled": false
   },
   "outputs": [
    {
     "data": {
      "image/png": "[encoded data removed]",
      "text/plain": [
       "<Figure size 864x432 with 1 Axes>"
      ]
     },
     "metadata": {
      "needs_background": "light"
     },
     "output_type": "display_data"
    }
   ],
   "source": [
    "# Tạo hình ảnh và trục\n",
    "fig, ax = plt.subplots(figsize=(12, 6))\n",
    "\n",
    "# Vẽ biểu đồ box plot\n",
    "ax.boxplot(df['Grocery'])\n",
    "\n",
    "# Vẽ dấu chấm số trên đỉnh của hộp box plot\n",
    "for i, box in enumerate(ax.artists):\n",
    "    ax.text(box.get_x() + box.get_width() / 2, df['Grocery'].iloc[i],\n",
    "             str(int(df['Grocery'].iloc[i])), ha='center', va='bottom')\n",
    "\n",
    "# Tắt đường viền phía trên và bên phải của biểu đồ\n",
    "spines = ['top', 'right']\n",
    "for s in spines:\n",
    "    ax.spines[s].set_visible(False)\n",
    "\n",
    "# Tắt dấu tích trên các trục\n",
    "ax.tick_params(left=False, bottom=False)\n",
    "\n",
    "# Thêm tiêu đề và nhãn cho biểu đồ\n",
    "plt.suptitle('Box Plot of Grocery', fontweight='bold', size=14, horizontalalignment='left', x=0.125)\n",
    "plt.text(0.7, 0.01, \"Phan Lac An - 20206109\", style='italic',transform=plt.gcf().transFigure)\n",
    "plt.show()"
   ]
  },
  {
   "cell_type": "code",
   "execution_count": 17,
   "id": "0f83632d",
   "metadata": {},
   "outputs": [
    {
     "data": {
      "image/png": "[encoded data removed]",
      "text/plain": [
       "<Figure size 864x432 with 1 Axes>"
      ]
     },
     "metadata": {
      "needs_background": "light"
     },
     "output_type": "display_data"
    }
   ],
   "source": [
    "fig, ax = plt.subplots(figsize=(12, 6))\n",
    "\n",
    "n, bins, patches = plt.hist(x=df['Frozen'], bins='auto', color='#0504aa',\n",
    "                            alpha=0.7, rwidth=0.85)\n",
    "# \n",
    "for i in range(len(patches)):\n",
    "    plt.text(patches[i].get_x() + patches[i].get_width() / 2, patches[i].get_height(),\n",
    "             str(int(patches[i].get_height())), ha='center', va='bottom')\n",
    "    \n",
    "# bỏ đường kẻ ở trên và bên phải chart\n",
    "spines = ['top', 'right']\n",
    "for s in spines:\n",
    "    ax.spines[s].set_visible(False) \n",
    "    \n",
    "# bỏ dấu tích ở 2 trục\n",
    "ax.tick_params(left=False, bottom=False) \n",
    "\n",
    "plt.suptitle('Histogram of Frozen', fontweight='bold', size=14, horizontalalignment='left', x=0.125, y = 1)\n",
    "plt.xlabel('Spending ($)', size=12)\n",
    "plt.ylabel('Customer', size=12)\n",
    "plt.text(0.7, 0.01, \"Phan Lac An - 20206109\", style='italic',transform=plt.gcf().transFigure)\n",
    "plt.show()"
   ]
  },
  {
   "cell_type": "code",
   "execution_count": 18,
   "id": "5569c847",
   "metadata": {},
   "outputs": [
    {
     "data": {
      "image/png": "[encoded data removed]",
      "text/plain": [
       "<Figure size 864x432 with 1 Axes>"
      ]
     },
     "metadata": {
      "needs_background": "light"
     },
     "output_type": "display_data"
    }
   ],
   "source": [
    "# Tạo hình ảnh và trục\n",
    "fig, ax = plt.subplots(figsize=(12, 6))\n",
    "\n",
    "# Vẽ biểu đồ box plot\n",
    "ax.boxplot(df['Frozen'])\n",
    "\n",
    "# Vẽ dấu chấm số trên đỉnh của hộp box plot\n",
    "for i, box in enumerate(ax.artists):\n",
    "    ax.text(box.get_x() + box.get_width() / 2, df['Frozen'].iloc[i],\n",
    "             str(int(df['Frozen'].iloc[i])), ha='center', va='bottom')\n",
    "\n",
    "# Tắt đường viền phía trên và bên phải của biểu đồ\n",
    "spines = ['top', 'right']\n",
    "for s in spines:\n",
    "    ax.spines[s].set_visible(False)\n",
    "\n",
    "# Tắt dấu tích trên các trục\n",
    "ax.tick_params(left=False, bottom=False)\n",
    "\n",
    "# Thêm tiêu đề và nhãn cho biểu đồ\n",
    "plt.suptitle('Box Plot of Frozen', fontweight='bold', size=14, horizontalalignment='left', x=0.125)\n",
    "plt.text(0.7, 0.01, \"Phan Lac An - 20206109\", style='italic',transform=plt.gcf().transFigure)\n",
    "plt.show()"
   ]
  },
  {
   "cell_type": "markdown",
   "id": "8da3263f",
   "metadata": {},
   "source": [
    "Có thể thấy dữ liệu có tương đối nhiều outlier"
   ]
  },
  {
   "cell_type": "code",
   "execution_count": 19,
   "id": "810f272d",
   "metadata": {},
   "outputs": [],
   "source": [
    "def handle_outliers(dataframe, column_name):\n",
    "    # Xác định giá trị cực tiểu và cực đại của Box plot\n",
    "    q1 = dataframe[column_name].quantile(0.25)\n",
    "    q3 = dataframe[column_name].quantile(0.75)\n",
    "    iqr = q3 - q1\n",
    "\n",
    "    lower_bound = q1 - 1.5 * iqr\n",
    "    upper_bound = q3 + 1.5 * iqr\n",
    "\n",
    "    # Clip các điểm ngoại lệ về giá trị cực tiểu và cực đại\n",
    "    dataframe[column_name] = np.clip(dataframe[column_name], lower_bound, upper_bound)\n",
    "\n",
    "    return dataframe"
   ]
  },
  {
   "cell_type": "code",
   "execution_count": 20,
   "id": "d4cef11b",
   "metadata": {},
   "outputs": [],
   "source": [
    "for column in df.columns:\n",
    "    handle_outliers(df, column)"
   ]
  },
  {
   "cell_type": "code",
   "execution_count": 21,
   "id": "5e0faf75",
   "metadata": {},
   "outputs": [
    {
     "data": {
      "image/png": "[encoded data removed]",
      "text/plain": [
       "<Figure size 864x432 with 1 Axes>"
      ]
     },
     "metadata": {
      "needs_background": "light"
     },
     "output_type": "display_data"
    }
   ],
   "source": [
    "# Tạo hình ảnh và trục\n",
    "fig, ax = plt.subplots(figsize=(12, 6))\n",
    "\n",
    "# Tạo box plot cho toàn bộ các cột trong bộ dữ liệu\n",
    "df.boxplot(ax=ax)\n",
    "\n",
    "# Tắt đường viền phía trên và bên phải của biểu đồ\n",
    "spines = ['top', 'right']\n",
    "for s in spines:\n",
    "    ax.spines[s].set_visible(False)\n",
    "\n",
    "# Bỏ tích trên các trục\n",
    "ax.tick_params(left=False, bottom=False)\n",
    "\n",
    "# Bỏ grid lines\n",
    "ax.grid(False)\n",
    "\n",
    "# Thêm tiêu đề và nhãn cho biểu đồ\n",
    "plt.suptitle('Box Plot of All Features', fontweight='bold', size=14, horizontalalignment='left', x=0.125)\n",
    "plt.text(0.7, 0.01, \"Phan Lac An - 20206109\", style='italic', transform=plt.gcf().transFigure)\n",
    "\n",
    "# Show biểu đồ\n",
    "plt.show()"
   ]
  },
  {
   "cell_type": "code",
   "execution_count": 22,
   "id": "29fba78f",
   "metadata": {},
   "outputs": [],
   "source": [
    "from kneed import KneeLocator\n",
    "from sklearn.cluster import KMeans\n",
    "from sklearn.metrics import silhouette_score\n",
    "from sklearn.preprocessing import StandardScaler"
   ]
  },
  {
   "cell_type": "code",
   "execution_count": 23,
   "id": "8452a906",
   "metadata": {},
   "outputs": [],
   "source": [
    "df = df.drop(['Total'], axis = 1)"
   ]
  },
  {
   "cell_type": "code",
   "execution_count": 24,
   "id": "1dfb9ab6",
   "metadata": {},
   "outputs": [
    {
     "data": {
      "text/html": [
       "<div>\n",
       "<style scoped>\n",
       "    .dataframe tbody tr th:only-of-type {\n",
       "        vertical-align: middle;\n",
       "    }\n",
       "\n",
       "    .dataframe tbody tr th {\n",
       "        vertical-align: top;\n",
       "    }\n",
       "\n",
       "    .dataframe thead th {\n",
       "        text-align: right;\n",
       "    }\n",
       "</style>\n",
       "<table border=\"1\" class=\"dataframe\">\n",
       "  <thead>\n",
       "    <tr style=\"text-align: right;\">\n",
       "      <th></th>\n",
       "      <th>0</th>\n",
       "      <th>1</th>\n",
       "      <th>2</th>\n",
       "      <th>3</th>\n",
       "      <th>4</th>\n",
       "      <th>5</th>\n",
       "    </tr>\n",
       "  </thead>\n",
       "  <tbody>\n",
       "    <tr>\n",
       "      <th>count</th>\n",
       "      <td>4.400000e+02</td>\n",
       "      <td>4.400000e+02</td>\n",
       "      <td>4.400000e+02</td>\n",
       "      <td>4.400000e+02</td>\n",
       "      <td>4.400000e+02</td>\n",
       "      <td>4.400000e+02</td>\n",
       "    </tr>\n",
       "    <tr>\n",
       "      <th>mean</th>\n",
       "      <td>-1.236385e-17</td>\n",
       "      <td>6.560409e-18</td>\n",
       "      <td>-5.298792e-17</td>\n",
       "      <td>2.422305e-17</td>\n",
       "      <td>-6.207156e-17</td>\n",
       "      <td>4.592286e-17</td>\n",
       "    </tr>\n",
       "    <tr>\n",
       "      <th>std</th>\n",
       "      <td>1.001138e+00</td>\n",
       "      <td>1.001138e+00</td>\n",
       "      <td>1.001138e+00</td>\n",
       "      <td>1.001138e+00</td>\n",
       "      <td>1.001138e+00</td>\n",
       "      <td>1.001138e+00</td>\n",
       "    </tr>\n",
       "    <tr>\n",
       "      <th>min</th>\n",
       "      <td>-1.113200e+00</td>\n",
       "      <td>-1.139728e+00</td>\n",
       "      <td>-1.097790e+00</td>\n",
       "      <td>-1.031812e+00</td>\n",
       "      <td>-8.135002e-01</td>\n",
       "      <td>-1.168118e+00</td>\n",
       "    </tr>\n",
       "    <tr>\n",
       "      <th>25%</th>\n",
       "      <td>-8.068503e-01</td>\n",
       "      <td>-8.023920e-01</td>\n",
       "      <td>-7.714903e-01</td>\n",
       "      <td>-7.336488e-01</td>\n",
       "      <td>-7.271158e-01</td>\n",
       "      <td>-7.935246e-01</td>\n",
       "    </tr>\n",
       "    <tr>\n",
       "      <th>50%</th>\n",
       "      <td>-2.797635e-01</td>\n",
       "      <td>-3.244614e-01</td>\n",
       "      <td>-3.765158e-01</td>\n",
       "      <td>-4.078410e-01</td>\n",
       "      <td>-5.365594e-01</td>\n",
       "      <td>-2.784292e-01</td>\n",
       "    </tr>\n",
       "    <tr>\n",
       "      <th>75%</th>\n",
       "      <td>5.466882e-01</td>\n",
       "      <td>4.888079e-01</td>\n",
       "      <td>5.189495e-01</td>\n",
       "      <td>4.353100e-01</td>\n",
       "      <td>5.206500e-01</td>\n",
       "      <td>5.116612e-01</td>\n",
       "    </tr>\n",
       "    <tr>\n",
       "      <th>max</th>\n",
       "      <td>2.576996e+00</td>\n",
       "      <td>2.425608e+00</td>\n",
       "      <td>2.454609e+00</td>\n",
       "      <td>2.188748e+00</td>\n",
       "      <td>2.392299e+00</td>\n",
       "      <td>2.469440e+00</td>\n",
       "    </tr>\n",
       "  </tbody>\n",
       "</table>\n",
       "</div>"
      ],
      "text/plain": [
       "                  0             1             2             3             4  \\\n",
       "count  4.400000e+02  4.400000e+02  4.400000e+02  4.400000e+02  4.400000e+02   \n",
       "mean  -1.236385e-17  6.560409e-18 -5.298792e-17  2.422305e-17 -6.207156e-17   \n",
       "std    1.001138e+00  1.001138e+00  1.001138e+00  1.001138e+00  1.001138e+00   \n",
       "min   -1.113200e+00 -1.139728e+00 -1.097790e+00 -1.031812e+00 -8.135002e-01   \n",
       "25%   -8.068503e-01 -8.023920e-01 -7.714903e-01 -7.336488e-01 -7.271158e-01   \n",
       "50%   -2.797635e-01 -3.244614e-01 -3.765158e-01 -4.078410e-01 -5.365594e-01   \n",
       "75%    5.466882e-01  4.888079e-01  5.189495e-01  4.353100e-01  5.206500e-01   \n",
       "max    2.576996e+00  2.425608e+00  2.454609e+00  2.188748e+00  2.392299e+00   \n",
       "\n",
       "                  5  \n",
       "count  4.400000e+02  \n",
       "mean   4.592286e-17  \n",
       "std    1.001138e+00  \n",
       "min   -1.168118e+00  \n",
       "25%   -7.935246e-01  \n",
       "50%   -2.784292e-01  \n",
       "75%    5.116612e-01  \n",
       "max    2.469440e+00  "
      ]
     },
     "execution_count": 24,
     "metadata": {},
     "output_type": "execute_result"
    }
   ],
   "source": [
    "scaler = StandardScaler()\n",
    "data_scaled = scaler.fit_transform(df)\n",
    "\n",
    "pd.DataFrame(data_scaled).describe()"
   ]
  },
  {
   "cell_type": "code",
   "execution_count": 25,
   "id": "837a921a",
   "metadata": {},
   "outputs": [
    {
     "data": {
      "text/plain": [
       "array([[ 0.12857261,  1.05158597,  0.04926747, -0.95324427,  0.09579175,\n",
       "         0.06589216],\n",
       "       [-0.42162716,  1.08673463,  0.35386453, -0.30973493,  0.30651872,\n",
       "         0.47075856],\n",
       "       [-0.49064723,  0.85804007,  0.06793486, -0.04243744,  0.38243489,\n",
       "         2.46943983],\n",
       "       ...,\n",
       "       [ 0.31112285,  2.38267048,  2.45460914, -0.86054235,  2.39229863,\n",
       "         0.55487464],\n",
       "       [-0.10466425, -0.70014133, -0.7595007 , -0.61070442, -0.75732904,\n",
       "         0.7933576 ],\n",
       "       [-0.84025742, -0.76473271, -0.71730938, -1.01518413, -0.65213577,\n",
       "        -1.1228252 ]])"
      ]
     },
     "execution_count": 25,
     "metadata": {},
     "output_type": "execute_result"
    }
   ],
   "source": [
    "data_scaled"
   ]
  },
  {
   "cell_type": "code",
   "execution_count": 26,
   "id": "e2449716",
   "metadata": {},
   "outputs": [
    {
     "name": "stderr",
     "output_type": "stream",
     "text": [
      "C:\\Users\\Admin\\anaconda3\\lib\\site-packages\\sklearn\\cluster\\_kmeans.py:881: UserWarning: KMeans is known to have a memory leak on Windows with MKL, when there are less chunks than available threads. You can avoid it by setting the environment variable OMP_NUM_THREADS=2.\n",
      "  warnings.warn(\n"
     ]
    }
   ],
   "source": [
    "kmeans_kwargs = {\n",
    "\"init\": \"random\",\n",
    "\"n_init\": 10,\n",
    "\"max_iter\": 300,\n",
    "\"random_state\": 42,\n",
    "}\n",
    "\n",
    "# A list holds the SSE values for each k\n",
    "sse = []\n",
    "for k in range(1, 11):\n",
    "    kmeans = KMeans(n_clusters=k, **kmeans_kwargs)\n",
    "    kmeans.fit(data_scaled)\n",
    "    sse.append(kmeans.inertia_)"
   ]
  },
  {
   "cell_type": "code",
   "execution_count": 27,
   "id": "4d7d3243",
   "metadata": {
    "scrolled": true
   },
   "outputs": [
    {
     "data": {
      "image/png": "[encoded data removed]",
      "text/plain": [
       "<Figure size 864x432 with 1 Axes>"
      ]
     },
     "metadata": {
      "needs_background": "light"
     },
     "output_type": "display_data"
    }
   ],
   "source": [
    "fig, ax = plt.subplots(figsize=(12, 6))\n",
    "\n",
    "ax.plot(range(1, 11), sse)\n",
    "\n",
    "spines = ['top', 'right']\n",
    "for s in spines:\n",
    "    ax.spines[s].set_visible(False) \n",
    "    \n",
    "    \n",
    "ax.xaxis.grid(linestyle='dashed')\n",
    "plt.xticks(range(1, 11))\n",
    "plt.xlabel(\"Number of Clusters\")\n",
    "plt.ylabel(\"SSE\")\n",
    "plt.show()"
   ]
  },
  {
   "cell_type": "code",
   "execution_count": 28,
   "id": "d370f387",
   "metadata": {},
   "outputs": [
    {
     "data": {
      "text/plain": [
       "3"
      ]
     },
     "execution_count": 28,
     "metadata": {},
     "output_type": "execute_result"
    }
   ],
   "source": [
    "kl = KneeLocator(range(1, 11), sse, curve=\"convex\", direction=\"decreasing\")\n",
    "\n",
    "kl.elbow"
   ]
  },
  {
   "cell_type": "code",
   "execution_count": 29,
   "id": "93e5ae8c",
   "metadata": {},
   "outputs": [],
   "source": [
    "# # A list holds the silhouette coefficients for each k\n",
    "# silhouette_coefficients = []\n",
    "\n",
    "# # Notice you start at 2 clusters for silhouette coefficient\n",
    "# for k in range(2, 11):\n",
    "#     kmeans = KMeans(n_clusters=k, **kmeans_kwargs)\n",
    "#     kmeans.fit(data_scaled)\n",
    "#     score = silhouette_score(data_scaled, kmeans.labels_)\n",
    "#     silhouette_coefficients.append(score)"
   ]
  },
  {
   "cell_type": "code",
   "execution_count": 30,
   "id": "6777dc3e",
   "metadata": {},
   "outputs": [],
   "source": [
    "# fig, ax = plt.subplots(figsize=(12, 6))\n",
    "\n",
    "# ax.plot(range(2, 11), silhouette_coefficients)\n",
    "\n",
    "# spines = ['top', 'right']\n",
    "# for s in spines:\n",
    "#     ax.spines[s].set_visible(False) \n",
    "    \n",
    "    \n",
    "# ax.xaxis.grid(linestyle='dashed')\n",
    "# plt.xticks(range(2, 11))\n",
    "\n",
    "# plt.xticks(range(2, 11))\n",
    "# plt.xlabel(\"Number of Clusters\")\n",
    "# plt.ylabel(\"Silhouette Coefficient\")\n",
    "# plt.show()"
   ]
  },
  {
   "cell_type": "code",
   "execution_count": 31,
   "id": "b75431f4",
   "metadata": {},
   "outputs": [
    {
     "data": {
      "text/plain": [
       "KMeans(init='random', n_clusters=3, random_state=42)"
      ]
     },
     "execution_count": 31,
     "metadata": {},
     "output_type": "execute_result"
    }
   ],
   "source": [
    "kmeans = KMeans(n_clusters=3,**kmeans_kwargs)\n",
    "kmeans.fit(data_scaled)"
   ]
  },
  {
   "cell_type": "code",
   "execution_count": 32,
   "id": "db6870fd",
   "metadata": {},
   "outputs": [],
   "source": [
    "df['Cluster_Labels'] = kmeans.labels_"
   ]
  },
  {
   "cell_type": "code",
   "execution_count": 33,
   "id": "9ffd91c0",
   "metadata": {},
   "outputs": [
    {
     "data": {
      "text/plain": [
       "1    237\n",
       "0    104\n",
       "2     99\n",
       "Name: Cluster_Labels, dtype: int64"
      ]
     },
     "execution_count": 33,
     "metadata": {},
     "output_type": "execute_result"
    }
   ],
   "source": [
    "df['Cluster_Labels'].value_counts()"
   ]
  },
  {
   "cell_type": "code",
   "execution_count": 34,
   "id": "33bc7d54",
   "metadata": {},
   "outputs": [
    {
     "data": {
      "text/html": [
       "<div>\n",
       "<style scoped>\n",
       "    .dataframe tbody tr th:only-of-type {\n",
       "        vertical-align: middle;\n",
       "    }\n",
       "\n",
       "    .dataframe tbody tr th {\n",
       "        vertical-align: top;\n",
       "    }\n",
       "\n",
       "    .dataframe thead th {\n",
       "        text-align: right;\n",
       "    }\n",
       "</style>\n",
       "<table border=\"1\" class=\"dataframe\">\n",
       "  <thead>\n",
       "    <tr style=\"text-align: right;\">\n",
       "      <th></th>\n",
       "      <th>Fresh</th>\n",
       "      <th>Milk</th>\n",
       "      <th>Grocery</th>\n",
       "      <th>Frozen</th>\n",
       "      <th>Detergents_Paper</th>\n",
       "      <th>Delicassen</th>\n",
       "      <th>Cluster_Labels</th>\n",
       "    </tr>\n",
       "  </thead>\n",
       "  <tbody>\n",
       "    <tr>\n",
       "      <th>0</th>\n",
       "      <td>12669.00</td>\n",
       "      <td>9656.0</td>\n",
       "      <td>7561.000</td>\n",
       "      <td>214.00</td>\n",
       "      <td>2674.000</td>\n",
       "      <td>1338.00</td>\n",
       "      <td>1</td>\n",
       "    </tr>\n",
       "    <tr>\n",
       "      <th>1</th>\n",
       "      <td>7057.00</td>\n",
       "      <td>9810.0</td>\n",
       "      <td>9568.000</td>\n",
       "      <td>1762.00</td>\n",
       "      <td>3293.000</td>\n",
       "      <td>1776.00</td>\n",
       "      <td>0</td>\n",
       "    </tr>\n",
       "    <tr>\n",
       "      <th>2</th>\n",
       "      <td>6353.00</td>\n",
       "      <td>8808.0</td>\n",
       "      <td>7684.000</td>\n",
       "      <td>2405.00</td>\n",
       "      <td>3516.000</td>\n",
       "      <td>3938.25</td>\n",
       "      <td>0</td>\n",
       "    </tr>\n",
       "    <tr>\n",
       "      <th>3</th>\n",
       "      <td>13265.00</td>\n",
       "      <td>1196.0</td>\n",
       "      <td>4221.000</td>\n",
       "      <td>6404.00</td>\n",
       "      <td>507.000</td>\n",
       "      <td>1788.00</td>\n",
       "      <td>2</td>\n",
       "    </tr>\n",
       "    <tr>\n",
       "      <th>4</th>\n",
       "      <td>22615.00</td>\n",
       "      <td>5410.0</td>\n",
       "      <td>7198.000</td>\n",
       "      <td>3915.00</td>\n",
       "      <td>1777.000</td>\n",
       "      <td>3938.25</td>\n",
       "      <td>2</td>\n",
       "    </tr>\n",
       "    <tr>\n",
       "      <th>...</th>\n",
       "      <td>...</td>\n",
       "      <td>...</td>\n",
       "      <td>...</td>\n",
       "      <td>...</td>\n",
       "      <td>...</td>\n",
       "      <td>...</td>\n",
       "      <td>...</td>\n",
       "    </tr>\n",
       "    <tr>\n",
       "      <th>435</th>\n",
       "      <td>29703.00</td>\n",
       "      <td>12051.0</td>\n",
       "      <td>16027.000</td>\n",
       "      <td>7772.25</td>\n",
       "      <td>182.000</td>\n",
       "      <td>2204.00</td>\n",
       "      <td>2</td>\n",
       "    </tr>\n",
       "    <tr>\n",
       "      <th>436</th>\n",
       "      <td>37642.75</td>\n",
       "      <td>1431.0</td>\n",
       "      <td>764.000</td>\n",
       "      <td>4510.00</td>\n",
       "      <td>93.000</td>\n",
       "      <td>2346.00</td>\n",
       "      <td>2</td>\n",
       "    </tr>\n",
       "    <tr>\n",
       "      <th>437</th>\n",
       "      <td>14531.00</td>\n",
       "      <td>15488.0</td>\n",
       "      <td>23409.875</td>\n",
       "      <td>437.00</td>\n",
       "      <td>9419.875</td>\n",
       "      <td>1867.00</td>\n",
       "      <td>0</td>\n",
       "    </tr>\n",
       "    <tr>\n",
       "      <th>438</th>\n",
       "      <td>10290.00</td>\n",
       "      <td>1981.0</td>\n",
       "      <td>2232.000</td>\n",
       "      <td>1038.00</td>\n",
       "      <td>168.000</td>\n",
       "      <td>2125.00</td>\n",
       "      <td>1</td>\n",
       "    </tr>\n",
       "    <tr>\n",
       "      <th>439</th>\n",
       "      <td>2787.00</td>\n",
       "      <td>1698.0</td>\n",
       "      <td>2510.000</td>\n",
       "      <td>65.00</td>\n",
       "      <td>477.000</td>\n",
       "      <td>52.00</td>\n",
       "      <td>1</td>\n",
       "    </tr>\n",
       "  </tbody>\n",
       "</table>\n",
       "<p>440 rows × 7 columns</p>\n",
       "</div>"
      ],
      "text/plain": [
       "        Fresh     Milk    Grocery   Frozen  Detergents_Paper  Delicassen  \\\n",
       "0    12669.00   9656.0   7561.000   214.00          2674.000     1338.00   \n",
       "1     7057.00   9810.0   9568.000  1762.00          3293.000     1776.00   \n",
       "2     6353.00   8808.0   7684.000  2405.00          3516.000     3938.25   \n",
       "3    13265.00   1196.0   4221.000  6404.00           507.000     1788.00   \n",
       "4    22615.00   5410.0   7198.000  3915.00          1777.000     3938.25   \n",
       "..        ...      ...        ...      ...               ...         ...   \n",
       "435  29703.00  12051.0  16027.000  7772.25           182.000     2204.00   \n",
       "436  37642.75   1431.0    764.000  4510.00            93.000     2346.00   \n",
       "437  14531.00  15488.0  23409.875   437.00          9419.875     1867.00   \n",
       "438  10290.00   1981.0   2232.000  1038.00           168.000     2125.00   \n",
       "439   2787.00   1698.0   2510.000    65.00           477.000       52.00   \n",
       "\n",
       "     Cluster_Labels  \n",
       "0                 1  \n",
       "1                 0  \n",
       "2                 0  \n",
       "3                 2  \n",
       "4                 2  \n",
       "..              ...  \n",
       "435               2  \n",
       "436               2  \n",
       "437               0  \n",
       "438               1  \n",
       "439               1  \n",
       "\n",
       "[440 rows x 7 columns]"
      ]
     },
     "execution_count": 34,
     "metadata": {},
     "output_type": "execute_result"
    }
   ],
   "source": [
    "df"
   ]
  },
  {
   "cell_type": "code",
   "execution_count": 35,
   "id": "c76de8e6",
   "metadata": {},
   "outputs": [],
   "source": [
    "# import numpy as np\n",
    "# from sklearn.cluster import KMeans\n",
    "# from sklearn.metrics import pairwise_distances\n",
    "\n",
    "# def calinski_harabasz_index(data, labels):\n",
    "#     num_samples, num_features = data.shape\n",
    "#     num_clusters = len(np.unique(labels))\n",
    "    \n",
    "#     cluster_centers = np.zeros((num_clusters, num_features))\n",
    "#     cluster_sizes = np.zeros(num_clusters)\n",
    "    \n",
    "#     for i in range(num_clusters):\n",
    "#         cluster_centers[i] = np.mean(data[labels == i], axis=0)\n",
    "#         cluster_sizes[i] = np.sum(labels == i)\n",
    "    \n",
    "#     total_mean = np.mean(data, axis=0)\n",
    "    \n",
    "#     # Tính toán tổng trong cụm (within-cluster sum of squares)\n",
    "#     within_cluster_sum_squares = np.sum(pairwise_distances(data, cluster_centers[labels], squared=True))\n",
    "    \n",
    "#     # Tính toán tổng giữa cụm (between-cluster sum of squares)\n",
    "#     between_cluster_sum_squares = np.sum(cluster_sizes * pairwise_distances(cluster_centers, total_mean.reshape(1, -1), squared=True))\n",
    "    \n",
    "#     # Tính toán Calinski-Harabasz Index\n",
    "#     calinski_harabasz_index = (between_cluster_sum_squares / (num_clusters - 1)) / (within_cluster_sum_squares / (num_samples - num_clusters))\n",
    "    \n",
    "#     return calinski_harabasz_index\n",
    "\n",
    "# # Sử dụng Calinski-Harabasz Index để tính toán chất lượng phân cụm\n",
    "# data = data_scaled  # Dữ liệu của bạn\n",
    "# labels = df['Cluster_Labels']  # Nhãn phân cụm của mỗi điểm dữ liệu\n",
    "# ch_index = calinski_harabasz_index(data, labels)"
   ]
  },
  {
   "cell_type": "code",
   "execution_count": 36,
   "id": "59c82e85",
   "metadata": {},
   "outputs": [],
   "source": [
    "# ch_index"
   ]
  },
  {
   "cell_type": "markdown",
   "id": "ea454de8",
   "metadata": {},
   "source": [
    "k = 2 thì ch_index = 0.7516274545617712"
   ]
  },
  {
   "cell_type": "markdown",
   "id": "d9937fe8",
   "metadata": {},
   "source": [
    "k = 3 thì ch_index = 0.616068767222303"
   ]
  },
  {
   "cell_type": "code",
   "execution_count": 37,
   "id": "ab094447",
   "metadata": {},
   "outputs": [],
   "source": [
    "# import numpy as np\n",
    "# from sklearn.metrics import pairwise_distances\n",
    "# from scipy.spatial.distance import cdist\n",
    "\n",
    "# def dunn_index(data, labels):\n",
    "#     num_clusters = len(np.unique(labels))\n",
    "#     cluster_centers = np.zeros((num_clusters, data.shape[1]))\n",
    "    \n",
    "#     for i in range(num_clusters):\n",
    "#         cluster_centers[i] = np.mean(data[labels == i], axis=0)\n",
    "    \n",
    "#     # Tính toán khoảng cách giữa các tâm cụm\n",
    "#     inter_cluster_distances = cdist(cluster_centers, cluster_centers, metric='euclidean')\n",
    "#     min_inter_cluster_distance = np.min(inter_cluster_distances[np.nonzero(inter_cluster_distances)])\n",
    "    \n",
    "#     # Tính toán khoảng cách trong cụm\n",
    "#     intra_cluster_distances = pairwise_distances(data, metric='euclidean')\n",
    "#     max_intra_cluster_distance = np.max([np.max(intra_cluster_distances[labels == i]) for i in range(num_clusters)])\n",
    "    \n",
    "#     # Tính toán Dunn Index\n",
    "#     dunn_index = min_inter_cluster_distance / max_intra_cluster_distance\n",
    "    \n",
    "#     return dunn_index\n",
    "\n",
    "# # Sử dụng Dunn Index để tính toán chất lượng phân cụm\n",
    "# data = data_scaled  # Dữ liệu của bạn\n",
    "# labels = df['Cluster_Labels']  # Nhãn phân cụm của mỗi điểm dữ liệu\n",
    "# dunn = dunn_index(data, labels)"
   ]
  },
  {
   "cell_type": "code",
   "execution_count": 38,
   "id": "9be2974d",
   "metadata": {},
   "outputs": [],
   "source": [
    "# dunn"
   ]
  },
  {
   "cell_type": "markdown",
   "id": "14755fec",
   "metadata": {},
   "source": [
    "k = 2 thì dunn = 0.37696576003133336"
   ]
  },
  {
   "cell_type": "markdown",
   "id": "ce3e5180",
   "metadata": {},
   "source": [
    "k = 3 thì dunn = 0.2806462250405711"
   ]
  },
  {
   "cell_type": "code",
   "execution_count": 39,
   "id": "df4630ed",
   "metadata": {},
   "outputs": [],
   "source": [
    "# import numpy as np\n",
    "# import matplotlib.pyplot as plt\n",
    "# from sklearn.cluster import KMeans\n",
    "# from sklearn.metrics import pairwise_distances\n",
    "# from scipy.spatial.distance import cdist\n",
    "\n",
    "# def dunn_index(data, labels):\n",
    "#     num_clusters = len(np.unique(labels))\n",
    "#     cluster_centers = np.zeros((num_clusters, data.shape[1]))\n",
    "    \n",
    "#     for i in range(num_clusters):\n",
    "#         cluster_centers[i] = np.mean(data[labels == i], axis=0)\n",
    "    \n",
    "#     # Tính toán khoảng cách giữa các tâm cụm\n",
    "#     inter_cluster_distances = cdist(cluster_centers, cluster_centers, metric='euclidean')\n",
    "#     min_inter_cluster_distance = np.min(inter_cluster_distances[np.nonzero(inter_cluster_distances)])\n",
    "    \n",
    "#     # Tính toán khoảng cách trong cụm\n",
    "#     intra_cluster_distances = pairwise_distances(data, metric='euclidean')\n",
    "#     max_intra_cluster_distance = np.max([np.max(intra_cluster_distances[labels == i]) for i in range(num_clusters)])\n",
    "    \n",
    "#     # Tính toán Dunn Index\n",
    "#     dunn_index = min_inter_cluster_distance / max_intra_cluster_distance\n",
    "    \n",
    "#     return dunn_index\n",
    "\n",
    "# # Tính toán Dunn Index cho các giá trị k\n",
    "# data = data_scaled # Dữ liệu của bạn\n",
    "# k_values = range(2, 11)\n",
    "# dunn_scores = []\n",
    "\n",
    "# for k in k_values:\n",
    "#     kmeans = KMeans(n_clusters=k, random_state=0).fit(data)\n",
    "#     labels = kmeans.labels_\n",
    "#     dunn_score = dunn_index(data, labels)\n",
    "#     dunn_scores.append(dunn_score)\n",
    "\n",
    "# # Vẽ biểu đồ Dunn Index\n",
    "# plt.plot(k_values, dunn_scores, marker='o')\n",
    "# plt.xlabel('Số lượng cụm (k)')\n",
    "# plt.ylabel('Dunn Index')\n",
    "# plt.title('Biểu đồ Dunn Index cho K-means')\n",
    "# plt.show()"
   ]
  },
  {
   "cell_type": "code",
   "execution_count": 40,
   "id": "072beff8",
   "metadata": {},
   "outputs": [
    {
     "data": {
      "image/png": "[encoded data removed]",
      "text/plain": [
       "<Figure size 432x288 with 1 Axes>"
      ]
     },
     "metadata": {
      "needs_background": "light"
     },
     "output_type": "display_data"
    }
   ],
   "source": [
    "import matplotlib.pyplot as plt\n",
    " \n",
    "# data for plotting\n",
    "x = [0, 1, 2, 3, 4, 5, 6, 7, 8, 9, 10, 11]\n",
    "y = [5, 7, 8, 1, 4, 9, 6, 3, 5, 2, 1, 8]\n",
    " \n",
    "plt.plot(x, y)\n",
    " \n",
    "plt.xlabel('x-axis label')\n",
    "plt.ylabel('y-axis label')\n",
    "plt.title('Matplotlib Example')\n",
    " \n",
    "plt.savefig(\"output.jpg\")"
   ]
  },
  {
   "cell_type": "code",
   "execution_count": null,
   "id": "29e21e52",
   "metadata": {},
   "outputs": [],
   "source": []
  }
 ],
 "metadata": {
  "kernelspec": {
   "display_name": "Python 3",
   "language": "python",
   "name": "python3"
  },
  "language_info": {
   "codemirror_mode": {
    "name": "ipython",
    "version": 3
   },
   "file_extension": ".py",
   "mimetype": "text/x-python",
   "name": "python",
   "nbconvert_exporter": "python",
   "pygments_lexer": "ipython3",
   "version": "3.8.8"
  }
 },
 "nbformat": 4,
 "nbformat_minor": 5
}
